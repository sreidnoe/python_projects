{
 "cells": [
  {
   "cell_type": "markdown",
   "id": "0f8fd749-338a-4a02-a4ff-1647398c774c",
   "metadata": {},
   "source": [
    "If-Elif-Else Statements"
   ]
  },
  {
   "cell_type": "code",
   "execution_count": 9,
   "id": "0ee9d382-fa45-47ec-9cb2-0447c546f5d2",
   "metadata": {},
   "outputs": [
    {
     "name": "stdout",
     "output_type": "stream",
     "text": [
      "It worked!\n"
     ]
    }
   ],
   "source": [
    "if 25 > 10:\n",
    "    print('It worked!')"
   ]
  },
  {
   "cell_type": "code",
   "execution_count": 10,
   "id": "454f828e-6550-4862-ab71-45ca0507824d",
   "metadata": {},
   "outputs": [],
   "source": [
    "if 25 < 10:\n",
    "    print('It worked!')"
   ]
  },
  {
   "cell_type": "markdown",
   "id": "f7f6b0a1-3a56-499c-876f-0f801d5e9351",
   "metadata": {},
   "source": [
    "Not True, so it does not return a value"
   ]
  },
  {
   "cell_type": "code",
   "execution_count": 11,
   "id": "8119ea56-cce3-4f1f-8f48-d78a08064b0a",
   "metadata": {},
   "outputs": [
    {
     "name": "stdout",
     "output_type": "stream",
     "text": [
      "It did not work...\n"
     ]
    }
   ],
   "source": [
    "if 25 < 10:\n",
    "    print('It worked!')\n",
    "else:\n",
    "    print('It did not work...')"
   ]
  },
  {
   "cell_type": "code",
   "execution_count": 12,
   "id": "20c9e7a8-1e3c-4279-98eb-5b3f898ce3d0",
   "metadata": {},
   "outputs": [
    {
     "name": "stdout",
     "output_type": "stream",
     "text": [
      "It worked!\n"
     ]
    }
   ],
   "source": [
    "if 25 > 10:\n",
    "    print('It worked!')\n",
    "else:\n",
    "    print('It did not work...')"
   ]
  },
  {
   "cell_type": "code",
   "execution_count": 14,
   "id": "e1841e94-9626-43c5-bc51-776c65857305",
   "metadata": {},
   "outputs": [
    {
     "name": "stdout",
     "output_type": "stream",
     "text": [
      "Elif worked!\n"
     ]
    }
   ],
   "source": [
    "if 25 < 10:\n",
    "    print('It worked!')\n",
    "elif 25 < 30:\n",
    "    print('Elif worked!')\n",
    "else:\n",
    "    print('It did not work...')"
   ]
  },
  {
   "cell_type": "code",
   "execution_count": 16,
   "id": "03a5de77-8199-49d8-94a7-637c526375c4",
   "metadata": {},
   "outputs": [
    {
     "name": "stdout",
     "output_type": "stream",
     "text": [
      "3 Elif worked!\n"
     ]
    }
   ],
   "source": [
    "if 25 < 10:\n",
    "    print('It Worked')\n",
    "elif 25 < 20:\n",
    "    print('1 Elif worked!')\n",
    "elif 25 < 21:\n",
    "    print('2 Elif worked!')\n",
    "elif 25 < 40:\n",
    "    print('3 Elif worked!')\n",
    "elif 25 < 50:\n",
    "    print('4 Elif worked!')\n",
    "else:\n",
    "    print('It did not work...')"
   ]
  },
  {
   "cell_type": "code",
   "execution_count": 18,
   "id": "b7b1c4b1-976b-4e78-abf4-c00647a51362",
   "metadata": {},
   "outputs": [
    {
     "name": "stdout",
     "output_type": "stream",
     "text": [
      "It Worked!\n"
     ]
    }
   ],
   "source": [
    "if (25 < 10)or (1 < 3):\n",
    "    print('It Worked!')\n",
    "elif 25 < 20:\n",
    "    print('1 Elif worked!')\n",
    "elif 25 < 21:\n",
    "    print('2 Elif worked!')\n",
    "elif 25 < 40:\n",
    "    print('3 Elif worked!')\n",
    "elif 25 < 50:\n",
    "    print('4 Elif worked!')\n",
    "else:\n",
    "    print('It did not work...')"
   ]
  },
  {
   "cell_type": "code",
   "execution_count": 19,
   "id": "e773ce06-8159-4469-a4da-29f206775ae9",
   "metadata": {},
   "outputs": [
    {
     "name": "stdout",
     "output_type": "stream",
     "text": [
      "It did not work\n"
     ]
    }
   ],
   "source": [
    "print('It Worked!') if 10 > 30 else print('It did not work')"
   ]
  },
  {
   "cell_type": "code",
   "execution_count": null,
   "id": "4b4d80b0-36ab-4beb-b1a4-bb3436974e79",
   "metadata": {},
   "outputs": [],
   "source": [
    "if (25 < 10)or (1 < 3):\n",
    "    print('It Worked!')\n",
    "    if 10 \n",
    "elif 25 < 20:\n",
    "    print('1 Elif worked!')\n",
    "elif 25 < 21:\n",
    "    print('2 Elif worked!')\n",
    "elif 25 < 40:\n",
    "    print('3 Elif worked!')\n",
    "elif 25 < 50:\n",
    "    print('4 Elif worked!')\n",
    "else:\n",
    "    print('It did not work...')"
   ]
  },
  {
   "cell_type": "code",
   "execution_count": null,
   "id": "899f7a4d-5ca1-461b-9ce9-6ee2aeeef904",
   "metadata": {},
   "outputs": [],
   "source": []
  },
  {
   "cell_type": "code",
   "execution_count": null,
   "id": "14658ce6-9c8a-4ccd-a611-e81cdbb5c817",
   "metadata": {},
   "outputs": [],
   "source": []
  },
  {
   "cell_type": "code",
   "execution_count": null,
   "id": "112b428c-a23b-42ca-97f4-508ed261949e",
   "metadata": {},
   "outputs": [],
   "source": []
  },
  {
   "cell_type": "code",
   "execution_count": null,
   "id": "08f7f247-5f60-472b-9cc2-f5ab31193632",
   "metadata": {},
   "outputs": [],
   "source": []
  },
  {
   "cell_type": "code",
   "execution_count": null,
   "id": "8ad2cd0d-7185-47c2-aa95-02fc74eacf88",
   "metadata": {},
   "outputs": [],
   "source": []
  }
 ],
 "metadata": {
  "kernelspec": {
   "display_name": "Python 3 (ipykernel)",
   "language": "python",
   "name": "python3"
  },
  "language_info": {
   "codemirror_mode": {
    "name": "ipython",
    "version": 3
   },
   "file_extension": ".py",
   "mimetype": "text/x-python",
   "name": "python",
   "nbconvert_exporter": "python",
   "pygments_lexer": "ipython3",
   "version": "3.13.5"
  }
 },
 "nbformat": 4,
 "nbformat_minor": 5
}
