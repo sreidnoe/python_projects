{
 "cells": [
  {
   "cell_type": "markdown",
   "id": "1ccbfdbb-5e55-4e66-a1f0-b334431f8dd2",
   "metadata": {},
   "source": [
    "For Loops"
   ]
  },
  {
   "cell_type": "markdown",
   "id": "df902f6b-b1d8-4f2e-aeaf-99d2ca5776a9",
   "metadata": {},
   "source": [
    "Entering for loop for each item in sequence"
   ]
  },
  {
   "cell_type": "code",
   "execution_count": 1,
   "id": "9b56fa32-a0f1-4496-8301-4c20f8552943",
   "metadata": {},
   "outputs": [],
   "source": [
    "integers = [1,2,3,4,5]"
   ]
  },
  {
   "cell_type": "code",
   "execution_count": 3,
   "id": "f1914e6b-2258-4608-8171-5814e9af13ea",
   "metadata": {},
   "outputs": [
    {
     "name": "stdout",
     "output_type": "stream",
     "text": [
      "1\n",
      "2\n",
      "3\n",
      "4\n",
      "5\n"
     ]
    }
   ],
   "source": [
    "for number in integers:\n",
    "    print(number)"
   ]
  },
  {
   "cell_type": "code",
   "execution_count": 5,
   "id": "f968efee-ea87-43e7-8986-f9c89f611e0c",
   "metadata": {},
   "outputs": [
    {
     "name": "stdout",
     "output_type": "stream",
     "text": [
      "yep!\n",
      "yep!\n",
      "yep!\n",
      "yep!\n",
      "yep!\n"
     ]
    }
   ],
   "source": [
    "for number in integers:\n",
    "    print('yep!')"
   ]
  },
  {
   "cell_type": "code",
   "execution_count": null,
   "id": "628fbed4-5118-4437-8a3f-8cb3b74b42a2",
   "metadata": {},
   "outputs": [],
   "source": [
    "integers = [1,2,3,4,5]"
   ]
  },
  {
   "cell_type": "code",
   "execution_count": 6,
   "id": "1c0dbaf3-6a75-462d-8f52-1a288daf5a36",
   "metadata": {},
   "outputs": [
    {
     "name": "stdout",
     "output_type": "stream",
     "text": [
      "2\n",
      "4\n",
      "6\n",
      "8\n",
      "10\n"
     ]
    }
   ],
   "source": [
    "for Jelly in integers:\n",
    "    print(Jelly + Jelly)"
   ]
  },
  {
   "cell_type": "code",
   "execution_count": 7,
   "id": "d52ebf33-e5c7-40c0-8e0d-4f1c02a87763",
   "metadata": {},
   "outputs": [],
   "source": [
    "ice_cream_dict = {'name': 'Stephanie Reid', 'weekly intake' : 5, 'favorite ice creams': ['MCC', 'Chocolate']}"
   ]
  },
  {
   "cell_type": "code",
   "execution_count": 8,
   "id": "6db3c621-b3e0-4665-be05-28c2d5b21a00",
   "metadata": {},
   "outputs": [
    {
     "name": "stdout",
     "output_type": "stream",
     "text": [
      "Stephanie Reid\n",
      "5\n",
      "['MCC', 'Chocolate']\n"
     ]
    }
   ],
   "source": [
    "for cream in ice_cream_dict.values():\n",
    "    print(cream)"
   ]
  },
  {
   "cell_type": "code",
   "execution_count": 9,
   "id": "e1c81311-12bd-41b9-a75b-f35001901c32",
   "metadata": {},
   "outputs": [
    {
     "name": "stdout",
     "output_type": "stream",
     "text": [
      "name -> Stephanie Reid\n",
      "weekly intake -> 5\n",
      "favorite ice creams -> ['MCC', 'Chocolate']\n"
     ]
    }
   ],
   "source": [
    "for key, value in ice_cream_dict.items():\n",
    "    print(key,'->', value)"
   ]
  },
  {
   "cell_type": "markdown",
   "id": "84d5e9f2-7e43-4be8-9839-d77506e0577b",
   "metadata": {},
   "source": [
    "Nested For Loops"
   ]
  },
  {
   "cell_type": "code",
   "execution_count": 10,
   "id": "1ecbb9f1-1ee0-44ca-a95c-5abf2318a379",
   "metadata": {},
   "outputs": [],
   "source": [
    "flavors = ['Vanilla', 'Chocolate', 'Cookie Dough']\n",
    "toppings = ['Hot Fudge', 'Oreos', 'Marshmallows']"
   ]
  },
  {
   "cell_type": "code",
   "execution_count": null,
   "id": "32589f75-0c75-4e44-b409-8458f8a27553",
   "metadata": {},
   "outputs": [],
   "source": [
    "for one in flavors :\n",
    "    for two in toppings :"
   ]
  },
  {
   "cell_type": "code",
   "execution_count": null,
   "id": "6a775c4f-0b39-4826-a82b-eaea5b52640b",
   "metadata": {},
   "outputs": [],
   "source": []
  },
  {
   "cell_type": "code",
   "execution_count": null,
   "id": "779b7519-a535-442c-a527-1d00e223e782",
   "metadata": {},
   "outputs": [],
   "source": []
  },
  {
   "cell_type": "code",
   "execution_count": null,
   "id": "fadcce38-3260-4b46-b752-4a5136baf16d",
   "metadata": {},
   "outputs": [],
   "source": []
  },
  {
   "cell_type": "code",
   "execution_count": null,
   "id": "b444e5f6-edf5-4f74-b382-b26fa5d1e5f0",
   "metadata": {},
   "outputs": [],
   "source": []
  },
  {
   "cell_type": "code",
   "execution_count": null,
   "id": "6b925da7-d435-4791-b35c-c0ca44fbe937",
   "metadata": {},
   "outputs": [],
   "source": []
  },
  {
   "cell_type": "code",
   "execution_count": null,
   "id": "409f4f4a-1295-4492-839d-2a550036e92c",
   "metadata": {},
   "outputs": [],
   "source": []
  },
  {
   "cell_type": "code",
   "execution_count": null,
   "id": "23e6add3-c40f-44e1-ae33-927fabeb7fb9",
   "metadata": {},
   "outputs": [],
   "source": []
  },
  {
   "cell_type": "code",
   "execution_count": null,
   "id": "57268741-ffdb-489b-86a6-b0e03ed55e61",
   "metadata": {},
   "outputs": [],
   "source": []
  },
  {
   "cell_type": "code",
   "execution_count": null,
   "id": "dab78c1a-b7d9-4104-853e-7cb464d9dca3",
   "metadata": {},
   "outputs": [],
   "source": []
  },
  {
   "cell_type": "code",
   "execution_count": null,
   "id": "9e6422e9-fbd9-42e4-9190-f877a5bbace1",
   "metadata": {},
   "outputs": [],
   "source": []
  },
  {
   "cell_type": "code",
   "execution_count": null,
   "id": "02a2fe1e-b8c3-4556-af55-12eefdda5906",
   "metadata": {},
   "outputs": [],
   "source": []
  },
  {
   "cell_type": "code",
   "execution_count": null,
   "id": "e3bef117-ffba-4b7a-aa43-c1659bb815b1",
   "metadata": {},
   "outputs": [],
   "source": []
  }
 ],
 "metadata": {
  "kernelspec": {
   "display_name": "Python 3 (ipykernel)",
   "language": "python",
   "name": "python3"
  },
  "language_info": {
   "codemirror_mode": {
    "name": "ipython",
    "version": 3
   },
   "file_extension": ".py",
   "mimetype": "text/x-python",
   "name": "python",
   "nbconvert_exporter": "python",
   "pygments_lexer": "ipython3",
   "version": "3.13.5"
  }
 },
 "nbformat": 4,
 "nbformat_minor": 5
}
