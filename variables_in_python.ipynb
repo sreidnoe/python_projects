{
 "cells": [
  {
   "cell_type": "markdown",
   "id": "27e8b98a-3c63-49ca-b361-7db46e0b0832",
   "metadata": {},
   "source": [
    "Vairables in Python"
   ]
  },
  {
   "cell_type": "code",
   "execution_count": 3,
   "id": "d1b35fcf-37c4-4a77-8b4b-c5e4e8f90dfb",
   "metadata": {},
   "outputs": [
    {
     "name": "stdout",
     "output_type": "stream",
     "text": [
      "22\n"
     ]
    }
   ],
   "source": [
    "x = 22\n",
    "\n",
    "print(x)"
   ]
  },
  {
   "cell_type": "code",
   "execution_count": 4,
   "id": "f39e21d8-7b05-4a68-a44e-22caa1b2dcba",
   "metadata": {},
   "outputs": [
    {
     "data": {
      "text/plain": [
       "int"
      ]
     },
     "execution_count": 4,
     "metadata": {},
     "output_type": "execute_result"
    }
   ],
   "source": [
    "type (x)"
   ]
  },
  {
   "cell_type": "code",
   "execution_count": 5,
   "id": "82a75677-b984-4775-94b3-4ffb3d424ec0",
   "metadata": {},
   "outputs": [
    {
     "name": "stdout",
     "output_type": "stream",
     "text": [
      "Mint Chocolate Chip\n"
     ]
    }
   ],
   "source": [
    "y = 'Mint Chocolate Chip'\n",
    "\n",
    "print(y)"
   ]
  },
  {
   "cell_type": "code",
   "execution_count": 6,
   "id": "019f975b-572b-431c-b594-b6d9dfc39b41",
   "metadata": {},
   "outputs": [
    {
     "data": {
      "text/plain": [
       "str"
      ]
     },
     "execution_count": 6,
     "metadata": {},
     "output_type": "execute_result"
    }
   ],
   "source": [
    "type(y)"
   ]
  },
  {
   "cell_type": "code",
   "execution_count": 10,
   "id": "5b1ed8fc-5289-4c4f-ac82-1b7637fc0449",
   "metadata": {},
   "outputs": [
    {
     "name": "stdout",
     "output_type": "stream",
     "text": [
      "Mint Chocolate Chip\n"
     ]
    }
   ],
   "source": [
    "y = 'Chocolate'\n",
    "Y = 'Mint Chocolate Chip'\n",
    "print(Y)"
   ]
  },
  {
   "cell_type": "code",
   "execution_count": 11,
   "id": "42b15cef-be47-4c7e-bcbe-6e674e120347",
   "metadata": {},
   "outputs": [
    {
     "name": "stdout",
     "output_type": "stream",
     "text": [
      "Chocolate\n",
      "Vanilla\n",
      "Rocky Road\n"
     ]
    }
   ],
   "source": [
    "x,y,z = 'Chocolate', 'Vanilla', 'Rocky Road'\n",
    "\n",
    "print(x)\n",
    "print(y)\n",
    "print(z)"
   ]
  },
  {
   "cell_type": "code",
   "execution_count": 12,
   "id": "2f48b767-bf68-4125-8eeb-dbbaa0bb61ab",
   "metadata": {},
   "outputs": [
    {
     "name": "stdout",
     "output_type": "stream",
     "text": [
      "Root Beer Float\n",
      "Root Beer Float\n",
      "Root Beer Float\n"
     ]
    }
   ],
   "source": [
    "x=y=z = 'Root Beer Float'\n",
    "print(x)\n",
    "print(y)\n",
    "print(z)"
   ]
  },
  {
   "cell_type": "code",
   "execution_count": 13,
   "id": "543b755b-752e-44f2-9958-51068a4634d7",
   "metadata": {},
   "outputs": [
    {
     "name": "stdout",
     "output_type": "stream",
     "text": [
      "Chocolate\n",
      "Vanilla\n",
      "Rocky Road\n"
     ]
    }
   ],
   "source": [
    "ice_cream = ['Chocolate', 'Vanilla', 'Rocky Road']\n",
    "\n",
    "x,y,z = ice_cream\n",
    "print(x)\n",
    "print(y)\n",
    "print(z)"
   ]
  },
  {
   "cell_type": "code",
   "execution_count": null,
   "id": "89df7ccf-5680-49a6-b667-0a32d0807c8b",
   "metadata": {},
   "outputs": [],
   "source": []
  },
  {
   "cell_type": "code",
   "execution_count": null,
   "id": "e4355406-0a41-4425-aaca-d908762e8ce1",
   "metadata": {},
   "outputs": [],
   "source": [
    "# Carmel Case\n",
    "\n",
    "#Test Variable Case\n",
    "\n",
    "testVariableCase = 'Vanilla Swirl'"
   ]
  },
  {
   "cell_type": "code",
   "execution_count": null,
   "id": "986d53cc-f6f7-443c-9af3-27a859e0d351",
   "metadata": {},
   "outputs": [],
   "source": [
    "# Pascal Case\n",
    "\n",
    "#Test Variable Case\n",
    "\n",
    "TestVariableCase = 'Vanilla Swirl'"
   ]
  },
  {
   "cell_type": "code",
   "execution_count": null,
   "id": "fba3bf62-838f-4de6-9e1c-0b7b62f95295",
   "metadata": {},
   "outputs": [],
   "source": [
    "# Snake Case\n",
    "\n",
    "#Test Variable Case\n",
    "\n",
    "test_variable_case = 'Vanilla Swirl'"
   ]
  },
  {
   "cell_type": "markdown",
   "id": "2c98d513-5ecf-44e9-b7e1-0af37018a28f",
   "metadata": {},
   "source": [
    "Working Variables "
   ]
  },
  {
   "cell_type": "code",
   "execution_count": null,
   "id": "e356ecb7-3af4-431f-ad41-fe5c512c65ee",
   "metadata": {},
   "outputs": [],
   "source": [
    "testvar = 'Vanilla Swirl'\n",
    "test_var = 'Vanilla Swirl'\n",
    "_test_var = 'Vanilla Swirl'\n",
    "testVar = 'Vanilla Swirl'\n",
    "TestVar = 'Vanilla Swirl'\n",
    "testVar2 = 'Vanilla Swirl'\n"
   ]
  },
  {
   "cell_type": "markdown",
   "id": "2aa134c4-5eb4-4802-8310-d682618ce7de",
   "metadata": {},
   "source": [
    "Non Working Variables - DO NOT USE "
   ]
  },
  {
   "cell_type": "code",
   "execution_count": null,
   "id": "d948bd95-afd1-4666-897c-b4f3216963bf",
   "metadata": {},
   "outputs": [],
   "source": [
    "2testVar = 'Vanilla Swirl\" \n",
    "test-Var2 = 'Vanilla Swirl'\n",
    "test Var2 = 'Vanilla Swirl'\n",
    "test,Var2 = 'Vanilla Swirl'"
   ]
  },
  {
   "cell_type": "markdown",
   "id": "ebace5db-cef0-4a46-a136-b09f3c8e6bfe",
   "metadata": {},
   "source": [
    "You can print like types... int and int or str and str. But you cannot print mixed types with '+' "
   ]
  },
  {
   "cell_type": "code",
   "execution_count": 14,
   "id": "751603d3-5151-472c-b953-08a5e759f283",
   "metadata": {},
   "outputs": [
    {
     "name": "stdout",
     "output_type": "stream",
     "text": [
      "Ice Cream is my favorite.\n"
     ]
    }
   ],
   "source": [
    "x = 'Ice Cream is my favorite' + '.'\n",
    "\n",
    "print(x)"
   ]
  },
  {
   "cell_type": "code",
   "execution_count": null,
   "id": "3d6515a3-8b30-4b9e-836b-a0029cbc8e84",
   "metadata": {},
   "outputs": [],
   "source": []
  },
  {
   "cell_type": "code",
   "execution_count": 15,
   "id": "f198fc26-0c9a-4de2-bd20-d927bc76fe98",
   "metadata": {},
   "outputs": [
    {
     "name": "stdout",
     "output_type": "stream",
     "text": [
      "5\n"
     ]
    }
   ],
   "source": [
    "y = 3 + 2\n",
    "\n",
    "print(y)"
   ]
  },
  {
   "cell_type": "code",
   "execution_count": null,
   "id": "341a8de3-bc8b-4a42-b15f-9f2e4ebce81f",
   "metadata": {},
   "outputs": [],
   "source": []
  },
  {
   "cell_type": "code",
   "execution_count": 17,
   "id": "ba8fd966-280f-4663-8e70-43870f1a1554",
   "metadata": {},
   "outputs": [
    {
     "name": "stdout",
     "output_type": "stream",
     "text": [
      "Ice Cream is my favorite.\n"
     ]
    }
   ],
   "source": [
    "x = 'Ice Cream' \n",
    "y = ' is'\n",
    "z = ' my favorite.'\n",
    "\n",
    "print(x + y +z )\n"
   ]
  },
  {
   "cell_type": "code",
   "execution_count": 18,
   "id": "9d3c771b-5028-4888-ae5b-5f8a1c66bdae",
   "metadata": {},
   "outputs": [
    {
     "name": "stdout",
     "output_type": "stream",
     "text": [
      "6\n"
     ]
    }
   ],
   "source": [
    "x =  1 \n",
    "y = 2\n",
    "z = 3\n",
    "\n",
    "print(x + y +z )"
   ]
  },
  {
   "cell_type": "markdown",
   "id": "914558ef-193d-4607-bf3e-1e95d2da2e58",
   "metadata": {},
   "source": [
    "int & str only work when separated with ',' ."
   ]
  },
  {
   "cell_type": "code",
   "execution_count": 20,
   "id": "2fd435e4-9c90-4143-b390-0e6a6674c297",
   "metadata": {},
   "outputs": [
    {
     "name": "stdout",
     "output_type": "stream",
     "text": [
      "Ice Cream 2\n"
     ]
    }
   ],
   "source": [
    "x =  'Ice Cream'\n",
    "y = 2\n",
    "\n",
    "print(x,y )"
   ]
  },
  {
   "cell_type": "code",
   "execution_count": null,
   "id": "66e08cb8-07ab-47c0-aa26-56d50877c415",
   "metadata": {},
   "outputs": [],
   "source": []
  },
  {
   "cell_type": "code",
   "execution_count": null,
   "id": "25d12072-6721-4c49-a4f1-8313ec66abb0",
   "metadata": {},
   "outputs": [],
   "source": []
  },
  {
   "cell_type": "code",
   "execution_count": null,
   "id": "75c283d2-fd80-42ae-bff6-224a423e975e",
   "metadata": {},
   "outputs": [],
   "source": []
  }
 ],
 "metadata": {
  "kernelspec": {
   "display_name": "Python 3 (ipykernel)",
   "language": "python",
   "name": "python3"
  },
  "language_info": {
   "codemirror_mode": {
    "name": "ipython",
    "version": 3
   },
   "file_extension": ".py",
   "mimetype": "text/x-python",
   "name": "python",
   "nbconvert_exporter": "python",
   "pygments_lexer": "ipython3",
   "version": "3.13.5"
  }
 },
 "nbformat": 4,
 "nbformat_minor": 5
}
