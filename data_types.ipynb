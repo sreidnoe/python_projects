{
 "cells": [
  {
   "cell_type": "markdown",
   "id": "af832b4b-3097-4bab-b765-c342a6cea899",
   "metadata": {},
   "source": [
    "Data Types"
   ]
  },
  {
   "cell_type": "markdown",
   "id": "48d4ac4a-6f29-402d-bbca-19f3b784d621",
   "metadata": {},
   "source": [
    "Integers are whole numbers wether negative or positive. "
   ]
  },
  {
   "cell_type": "code",
   "execution_count": 1,
   "id": "cbe1fb73-261b-4938-99f2-d4d3cf6d757f",
   "metadata": {},
   "outputs": [
    {
     "data": {
      "text/plain": [
       "int"
      ]
     },
     "execution_count": 1,
     "metadata": {},
     "output_type": "execute_result"
    }
   ],
   "source": [
    "type(12)"
   ]
  },
  {
   "cell_type": "markdown",
   "id": "8e11899b-7629-4a86-bb77-4c3849e38eba",
   "metadata": {},
   "source": [
    "Decimal numbers are a float type"
   ]
  },
  {
   "cell_type": "code",
   "execution_count": 2,
   "id": "ddd8aa76-3b33-47da-82ec-e1cbcd54fff0",
   "metadata": {},
   "outputs": [
    {
     "data": {
      "text/plain": [
       "float"
      ]
     },
     "execution_count": 2,
     "metadata": {},
     "output_type": "execute_result"
    }
   ],
   "source": [
    "type(12 + 10.235)"
   ]
  },
  {
   "cell_type": "markdown",
   "id": "472bb248-54b8-45c2-83e2-2642c41940e2",
   "metadata": {},
   "source": [
    "Complex = Used for imaginary numbers MUST USE 'j'"
   ]
  },
  {
   "cell_type": "code",
   "execution_count": 3,
   "id": "7cec9bc5-ba10-43d4-a0fc-0eeddd4e210f",
   "metadata": {},
   "outputs": [
    {
     "data": {
      "text/plain": [
       "complex"
      ]
     },
     "execution_count": 3,
     "metadata": {},
     "output_type": "execute_result"
    }
   ],
   "source": [
    "type(12 + 3j)"
   ]
  },
  {
   "cell_type": "code",
   "execution_count": 6,
   "id": "f76a7f54-2c77-4605-9a05-f6d9d1fe1c9a",
   "metadata": {},
   "outputs": [
    {
     "data": {
      "text/plain": [
       "bool"
      ]
     },
     "execution_count": 6,
     "metadata": {},
     "output_type": "execute_result"
    }
   ],
   "source": [
    "#Boolean\n",
    "\n",
    "type(True)"
   ]
  },
  {
   "cell_type": "code",
   "execution_count": 7,
   "id": "32c21546-a5cb-4aec-a21a-ab552d462148",
   "metadata": {},
   "outputs": [
    {
     "data": {
      "text/plain": [
       "bool"
      ]
     },
     "execution_count": 7,
     "metadata": {},
     "output_type": "execute_result"
    }
   ],
   "source": [
    "#Boolean\n",
    "\n",
    "type(False)"
   ]
  },
  {
   "cell_type": "code",
   "execution_count": 9,
   "id": "56db86b3-6dea-4302-9e8e-821cc247216c",
   "metadata": {},
   "outputs": [
    {
     "data": {
      "text/plain": [
       "bool"
      ]
     },
     "execution_count": 9,
     "metadata": {},
     "output_type": "execute_result"
    }
   ],
   "source": [
    "#Boolean\n",
    "\n",
    "type(1>5)"
   ]
  },
  {
   "cell_type": "code",
   "execution_count": 10,
   "id": "f6c12589-e039-4e4a-964f-1c31d8da7169",
   "metadata": {},
   "outputs": [
    {
     "data": {
      "text/plain": [
       "False"
      ]
     },
     "execution_count": 10,
     "metadata": {},
     "output_type": "execute_result"
    }
   ],
   "source": [
    "1>5"
   ]
  },
  {
   "cell_type": "code",
   "execution_count": 13,
   "id": "9e88a55f-ec89-4f11-a0ca-29b2f9accf6d",
   "metadata": {},
   "outputs": [
    {
     "data": {
      "text/plain": [
       "True"
      ]
     },
     "execution_count": 13,
     "metadata": {},
     "output_type": "execute_result"
    }
   ],
   "source": [
    "1 == 1"
   ]
  },
  {
   "cell_type": "code",
   "execution_count": 14,
   "id": "de9f28b9-ae60-4a46-a01b-0578587f3eb1",
   "metadata": {},
   "outputs": [
    {
     "data": {
      "text/plain": [
       "'Single Quote'"
      ]
     },
     "execution_count": 14,
     "metadata": {},
     "output_type": "execute_result"
    }
   ],
   "source": [
    "#Strings\n",
    "\n",
    "'Single Quote'"
   ]
  },
  {
   "cell_type": "code",
   "execution_count": 17,
   "id": "ed45c8d5-23d3-4b1a-80ae-4d5b38293afe",
   "metadata": {},
   "outputs": [
    {
     "data": {
      "text/plain": [
       "'Double Quote'"
      ]
     },
     "execution_count": 17,
     "metadata": {},
     "output_type": "execute_result"
    }
   ],
   "source": [
    "\"Double Quote\""
   ]
  },
  {
   "cell_type": "code",
   "execution_count": 19,
   "id": "417611f8-fe4b-44bd-8418-fad4c53eca3c",
   "metadata": {},
   "outputs": [],
   "source": [
    "multiline = \"\"\"\n",
    "\n",
    "The Ice Cream vanquished \n",
    "my longing for sweets,\n",
    "upon this diet I look away,\n",
    "itno longer exists on this day.\n",
    "\n",
    "\"\"\""
   ]
  },
  {
   "cell_type": "code",
   "execution_count": 20,
   "id": "a608e51f-03ce-41fc-928e-9d5ff6734e59",
   "metadata": {},
   "outputs": [
    {
     "name": "stdout",
     "output_type": "stream",
     "text": [
      "\n",
      "\n",
      "The Ice Cream vanquished \n",
      "my longing for sweets,\n",
      "upon this diet I look away,\n",
      "itno longer exists on this day.\n",
      "\n",
      "\n"
     ]
    }
   ],
   "source": [
    "print(multiline)"
   ]
  },
  {
   "cell_type": "code",
   "execution_count": null,
   "id": "db961ed9-6d62-4b6b-821d-0469ae7532a9",
   "metadata": {},
   "outputs": [],
   "source": [
    "\"\"\"\n",
    "I've always wantes to eat a gallon of \"ice cream.\" \n",
    "\"\"\""
   ]
  },
  {
   "cell_type": "code",
   "execution_count": 21,
   "id": "3b28c5ae-7aa3-4b09-bccb-8d91d1727f16",
   "metadata": {},
   "outputs": [
    {
     "data": {
      "text/plain": [
       "str"
      ]
     },
     "execution_count": 21,
     "metadata": {},
     "output_type": "execute_result"
    }
   ],
   "source": [
    "type(multiline)"
   ]
  },
  {
   "cell_type": "code",
   "execution_count": 22,
   "id": "29d0d51d-589e-4484-94bb-94477c338eda",
   "metadata": {},
   "outputs": [],
   "source": [
    "a = 'Hello World.'"
   ]
  },
  {
   "cell_type": "code",
   "execution_count": 23,
   "id": "27ba2c30-38cb-4844-8831-023150712c89",
   "metadata": {},
   "outputs": [
    {
     "name": "stdout",
     "output_type": "stream",
     "text": [
      "Hello\n"
     ]
    }
   ],
   "source": [
    "print (a [:5])"
   ]
  },
  {
   "cell_type": "code",
   "execution_count": 24,
   "id": "864c200e-f4f4-4a4c-8ad1-069e2e6ff9c3",
   "metadata": {},
   "outputs": [
    {
     "data": {
      "text/plain": [
       "'Hello World.Hello World.Hello World.'"
      ]
     },
     "execution_count": 24,
     "metadata": {},
     "output_type": "execute_result"
    }
   ],
   "source": [
    "a*3"
   ]
  },
  {
   "cell_type": "code",
   "execution_count": 25,
   "id": "d8945c5f-5ac5-4d25-8356-b6c1ddf01449",
   "metadata": {},
   "outputs": [
    {
     "data": {
      "text/plain": [
       "'Hello World.Hello World.'"
      ]
     },
     "execution_count": 25,
     "metadata": {},
     "output_type": "execute_result"
    }
   ],
   "source": [
    "a+a"
   ]
  },
  {
   "cell_type": "code",
   "execution_count": 26,
   "id": "b4e05cd6-52fe-4d35-b6fc-2cea8582ee52",
   "metadata": {},
   "outputs": [
    {
     "data": {
      "text/plain": [
       "[1, 2, 3]"
      ]
     },
     "execution_count": 26,
     "metadata": {},
     "output_type": "execute_result"
    }
   ],
   "source": [
    "#list\n",
    "\n",
    "[1,2,3]"
   ]
  },
  {
   "cell_type": "code",
   "execution_count": 28,
   "id": "7ede1970-2b11-4b24-8f9d-df1a9dc5a1e8",
   "metadata": {},
   "outputs": [
    {
     "data": {
      "text/plain": [
       "['Cookie Dough', 'Strawberry', 'Chocolate']"
      ]
     },
     "execution_count": 28,
     "metadata": {},
     "output_type": "execute_result"
    }
   ],
   "source": [
    "['Cookie Dough', 'Strawberry', 'Chocolate']"
   ]
  },
  {
   "cell_type": "code",
   "execution_count": 29,
   "id": "28157338-6627-4fbe-beb7-1f6dfd0d803e",
   "metadata": {},
   "outputs": [
    {
     "data": {
      "text/plain": [
       "['Vanilla', 3, ['Scoops', 'Spoon'], True]"
      ]
     },
     "execution_count": 29,
     "metadata": {},
     "output_type": "execute_result"
    }
   ],
   "source": [
    "['Vanilla', 3, ['Scoops', 'Spoon'], True]"
   ]
  },
  {
   "cell_type": "code",
   "execution_count": 31,
   "id": "94b349e5-f5ac-4dbd-9011-94f00652c10e",
   "metadata": {},
   "outputs": [
    {
     "data": {
      "text/plain": [
       "['Cookie Dough', 'Strawberry', 'Chocolate', 'Salted Caramel']"
      ]
     },
     "execution_count": 31,
     "metadata": {},
     "output_type": "execute_result"
    }
   ],
   "source": [
    "ice_cream = ['Cookie Dough', 'Strawberry', 'Chocolate']\n",
    "\n",
    "ice_cream.append('Salted Caramel')\n",
    "\n",
    "ice_cream"
   ]
  },
  {
   "cell_type": "code",
   "execution_count": 32,
   "id": "30e9e25d-e892-4a75-8cb2-3fa09ef19f6b",
   "metadata": {},
   "outputs": [
    {
     "data": {
      "text/plain": [
       "['Butter Pecan', 'Strawberry', 'Chocolate', 'Salted Caramel']"
      ]
     },
     "execution_count": 32,
     "metadata": {},
     "output_type": "execute_result"
    }
   ],
   "source": [
    "ice_cream[0] = 'Butter Pecan'\n",
    "\n",
    "ice_cream\n"
   ]
  },
  {
   "cell_type": "code",
   "execution_count": 34,
   "id": "bc6a5152-941f-467f-9860-48ac6bc159d7",
   "metadata": {},
   "outputs": [],
   "source": [
    "nest_list = ['Vanilla', 3, ['Scoops', 'Spoon'], True]"
   ]
  },
  {
   "cell_type": "code",
   "execution_count": 35,
   "id": "00d1364f-02b2-4631-8d4c-1efa217450ff",
   "metadata": {},
   "outputs": [
    {
     "data": {
      "text/plain": [
       "'Vanilla'"
      ]
     },
     "execution_count": 35,
     "metadata": {},
     "output_type": "execute_result"
    }
   ],
   "source": [
    "nest_list[0]"
   ]
  },
  {
   "cell_type": "code",
   "execution_count": 36,
   "id": "d546d57e-2be2-4d9d-97ca-15b32b3112b4",
   "metadata": {},
   "outputs": [
    {
     "data": {
      "text/plain": [
       "3"
      ]
     },
     "execution_count": 36,
     "metadata": {},
     "output_type": "execute_result"
    }
   ],
   "source": [
    "nest_list[1]"
   ]
  },
  {
   "cell_type": "code",
   "execution_count": 37,
   "id": "0ada83f1-e0b0-4028-87d2-57d9f7655963",
   "metadata": {},
   "outputs": [
    {
     "data": {
      "text/plain": [
       "['Scoops', 'Spoon']"
      ]
     },
     "execution_count": 37,
     "metadata": {},
     "output_type": "execute_result"
    }
   ],
   "source": [
    "nest_list[2]"
   ]
  },
  {
   "cell_type": "code",
   "execution_count": 39,
   "id": "94b0891b-3016-47b6-8196-3eef7c83cff4",
   "metadata": {},
   "outputs": [
    {
     "data": {
      "text/plain": [
       "True"
      ]
     },
     "execution_count": 39,
     "metadata": {},
     "output_type": "execute_result"
    }
   ],
   "source": [
    "nest_list[3]"
   ]
  },
  {
   "cell_type": "code",
   "execution_count": 40,
   "id": "80bab180-da74-4325-934b-747b131ee09e",
   "metadata": {},
   "outputs": [
    {
     "data": {
      "text/plain": [
       "'Spoon'"
      ]
     },
     "execution_count": 40,
     "metadata": {},
     "output_type": "execute_result"
    }
   ],
   "source": [
    "nest_list[2][1]"
   ]
  },
  {
   "cell_type": "code",
   "execution_count": 41,
   "id": "09b15fd5-d5c2-4d66-93b6-f34cb92bf047",
   "metadata": {},
   "outputs": [],
   "source": [
    "#tuple\n",
    "\n",
    "tuple_scoops = (1,2,3,2,1)"
   ]
  },
  {
   "cell_type": "code",
   "execution_count": 42,
   "id": "4bbb93e6-480f-47e6-a6a9-d7696ad22bda",
   "metadata": {},
   "outputs": [
    {
     "data": {
      "text/plain": [
       "tuple"
      ]
     },
     "execution_count": 42,
     "metadata": {},
     "output_type": "execute_result"
    }
   ],
   "source": [
    "type(tuple_scoops)"
   ]
  },
  {
   "cell_type": "code",
   "execution_count": 43,
   "id": "ef9b1de8-c2c3-4c4a-b43b-330816cf25d5",
   "metadata": {},
   "outputs": [
    {
     "data": {
      "text/plain": [
       "2"
      ]
     },
     "execution_count": 43,
     "metadata": {},
     "output_type": "execute_result"
    }
   ],
   "source": [
    "tuple_scoops[1]"
   ]
  },
  {
   "cell_type": "markdown",
   "id": "39d679b8-60b9-4095-8e0a-2713237d180c",
   "metadata": {},
   "source": [
    "Tuples are unable to have an append. Typically used when data is never going to change. \n"
   ]
  },
  {
   "cell_type": "code",
   "execution_count": 45,
   "id": "7c0bb7aa-ef78-453e-b8bd-680ca66331b9",
   "metadata": {},
   "outputs": [],
   "source": [
    "# sets\n",
    "\n",
    "daily_pints = {1,2,3}"
   ]
  },
  {
   "cell_type": "code",
   "execution_count": 46,
   "id": "e18fe875-736c-44c4-b0ab-f458e6a3725c",
   "metadata": {},
   "outputs": [
    {
     "data": {
      "text/plain": [
       "set"
      ]
     },
     "execution_count": 46,
     "metadata": {},
     "output_type": "execute_result"
    }
   ],
   "source": [
    "type(daily_pints)"
   ]
  },
  {
   "cell_type": "code",
   "execution_count": 47,
   "id": "95b15082-f75e-44b4-9a3f-8a7ae281a0fe",
   "metadata": {},
   "outputs": [
    {
     "name": "stdout",
     "output_type": "stream",
     "text": [
      "{1, 2, 3}\n"
     ]
    }
   ],
   "source": [
    "print(daily_pints)"
   ]
  },
  {
   "cell_type": "code",
   "execution_count": 48,
   "id": "a11845f3-ecb9-48d4-a4c8-27f8d55c2e33",
   "metadata": {},
   "outputs": [
    {
     "name": "stdout",
     "output_type": "stream",
     "text": [
      "{1, 2, 3, 5, 6, 31}\n"
     ]
    }
   ],
   "source": [
    "daily_pints_log = {1,2,31,2,3,2,1,2,5,6,3,2}\n",
    "\n",
    "print(daily_pints_log)"
   ]
  },
  {
   "cell_type": "code",
   "execution_count": 54,
   "id": "9008fd6e-73bb-45bb-90ed-a4ade5381a62",
   "metadata": {},
   "outputs": [],
   "source": [
    "wifes_daily_pints_log = {1,4,3,5,6,7,3,0,2,6,7,3}"
   ]
  },
  {
   "cell_type": "markdown",
   "id": "20b6bcaa-3b2b-4e8e-8604-ee9e57c5bec7",
   "metadata": {},
   "source": [
    "| = Unique values"
   ]
  },
  {
   "cell_type": "code",
   "execution_count": 55,
   "id": "f0851464-974c-4cfd-b600-14278a3e9a25",
   "metadata": {},
   "outputs": [
    {
     "name": "stdout",
     "output_type": "stream",
     "text": [
      "{0, 1, 2, 3, 4, 5, 6, 7, 31}\n"
     ]
    }
   ],
   "source": [
    "print(daily_pints_log | wifes_daily_pints_log)"
   ]
  },
  {
   "cell_type": "markdown",
   "id": "0e93ee6c-e489-4b42-bff9-775589bcaa1d",
   "metadata": {},
   "source": [
    "& = Values that are shared between both sets"
   ]
  },
  {
   "cell_type": "code",
   "execution_count": 56,
   "id": "ea194666-c6c1-4223-a4dd-c2edc4025116",
   "metadata": {},
   "outputs": [
    {
     "name": "stdout",
     "output_type": "stream",
     "text": [
      "{1, 2, 3, 5, 6}\n"
     ]
    }
   ],
   "source": [
    "print(daily_pints_log & wifes_daily_pints_log)"
   ]
  },
  {
   "cell_type": "markdown",
   "id": "564f9436-daec-4b74-bb82-41a69d06abb6",
   "metadata": {},
   "source": [
    "- = What doesn't match"
   ]
  },
  {
   "cell_type": "code",
   "execution_count": 58,
   "id": "6ccde1b6-ae0a-4b15-b7de-3ac064492cef",
   "metadata": {},
   "outputs": [
    {
     "name": "stdout",
     "output_type": "stream",
     "text": [
      "{31}\n"
     ]
    }
   ],
   "source": [
    "print(daily_pints_log - wifes_daily_pints_log)"
   ]
  },
  {
   "cell_type": "markdown",
   "id": "1d48ac41-0fb8-4596-886a-86f20870c359",
   "metadata": {},
   "source": [
    "^ only unique to each of those sets"
   ]
  },
  {
   "cell_type": "code",
   "execution_count": 59,
   "id": "44d93179-d6bb-4685-b7b1-9fa8beeac893",
   "metadata": {},
   "outputs": [
    {
     "name": "stdout",
     "output_type": "stream",
     "text": [
      "{0, 4, 7, 31}\n"
     ]
    }
   ],
   "source": [
    "print(daily_pints_log ^ wifes_daily_pints_log)"
   ]
  },
  {
   "cell_type": "code",
   "execution_count": 60,
   "id": "10c31ccd-9a95-48de-8855-ee4fd140ed50",
   "metadata": {},
   "outputs": [],
   "source": [
    "# dictionaries\n",
    "#Key/Value Pair\n",
    "\n",
    "dict_cream = {'name':'Stephanie Reid' , 'weekly intake': 5, 'favorite ice creams': ['Butter Pecan', 'MCC']}\n"
   ]
  },
  {
   "cell_type": "code",
   "execution_count": 61,
   "id": "7c92cd6d-13d4-4ef8-b6cd-2ba1e0bca36e",
   "metadata": {},
   "outputs": [
    {
     "data": {
      "text/plain": [
       "dict"
      ]
     },
     "execution_count": 61,
     "metadata": {},
     "output_type": "execute_result"
    }
   ],
   "source": [
    "type(dict_cream)"
   ]
  },
  {
   "cell_type": "code",
   "execution_count": 62,
   "id": "da016c4c-30be-444a-914d-370e1bdab257",
   "metadata": {},
   "outputs": [
    {
     "name": "stdout",
     "output_type": "stream",
     "text": [
      "{'name': 'Stephanie Reid', 'weekly intake': 5, 'favorite ice creams': ['Butter Pecan', 'MCC']}\n"
     ]
    }
   ],
   "source": [
    "print(dict_cream)"
   ]
  },
  {
   "cell_type": "code",
   "execution_count": 63,
   "id": "9fb85e31-039c-4ed3-b454-3d23d3dc0761",
   "metadata": {},
   "outputs": [
    {
     "data": {
      "text/plain": [
       "dict_values(['Stephanie Reid', 5, ['Butter Pecan', 'MCC']])"
      ]
     },
     "execution_count": 63,
     "metadata": {},
     "output_type": "execute_result"
    }
   ],
   "source": [
    "dict_cream.values()"
   ]
  },
  {
   "cell_type": "code",
   "execution_count": 66,
   "id": "644cd038-1528-44e5-859a-69ccfc2662a4",
   "metadata": {},
   "outputs": [
    {
     "data": {
      "text/plain": [
       "dict_keys(['name', 'weekly intake', 'favorite ice creams'])"
      ]
     },
     "execution_count": 66,
     "metadata": {},
     "output_type": "execute_result"
    }
   ],
   "source": [
    "dict_cream.keys()"
   ]
  },
  {
   "cell_type": "code",
   "execution_count": 67,
   "id": "c179b3a2-483f-467e-a8b0-f54179d15908",
   "metadata": {},
   "outputs": [
    {
     "data": {
      "text/plain": [
       "dict_items([('name', 'Stephanie Reid'), ('weekly intake', 5), ('favorite ice creams', ['Butter Pecan', 'MCC'])])"
      ]
     },
     "execution_count": 67,
     "metadata": {},
     "output_type": "execute_result"
    }
   ],
   "source": [
    "dict_cream.items()"
   ]
  },
  {
   "cell_type": "code",
   "execution_count": 68,
   "id": "0fa97006-0361-4798-9dd7-2d3313727777",
   "metadata": {},
   "outputs": [
    {
     "data": {
      "text/plain": [
       "'Stephanie Reid'"
      ]
     },
     "execution_count": 68,
     "metadata": {},
     "output_type": "execute_result"
    }
   ],
   "source": [
    "dict_cream['name']"
   ]
  },
  {
   "cell_type": "code",
   "execution_count": 70,
   "id": "956551f0-a81d-42c0-a03c-70ac765b1b3f",
   "metadata": {},
   "outputs": [
    {
     "name": "stdout",
     "output_type": "stream",
     "text": [
      "{'name': 'Stephanie Reid-Noe', 'weekly intake': 5, 'favorite ice creams': ['Butter Pecan', 'MCC']}\n"
     ]
    }
   ],
   "source": [
    "dict_cream['name']  = 'Stephanie Reid-Noe'\n",
    "\n",
    "print(dict_cream)"
   ]
  },
  {
   "cell_type": "code",
   "execution_count": 72,
   "id": "fab4ea98-8e4c-4a18-9145-574f67dace15",
   "metadata": {},
   "outputs": [
    {
     "name": "stdout",
     "output_type": "stream",
     "text": [
      "{'name': 'Stephanie Reid-Noe', 'weekly intake': 10, 'favorite ice creams': ['Butter Pecan', 'MCC'], 'weight': 300}\n"
     ]
    }
   ],
   "source": [
    "dict_cream.update({'name': 'Stephanie Reid-Noe', 'weekly intake': 10, 'weight': 300})\n",
    "\n",
    "print(dict_cream)"
   ]
  },
  {
   "cell_type": "code",
   "execution_count": 73,
   "id": "9386cc92-29b2-41df-a2fd-42e15a436b43",
   "metadata": {},
   "outputs": [
    {
     "name": "stdout",
     "output_type": "stream",
     "text": [
      "{'name': 'Stephanie Reid-Noe', 'weekly intake': 10, 'favorite ice creams': ['Butter Pecan', 'MCC']}\n"
     ]
    }
   ],
   "source": [
    "del dict_cream['weight']\n",
    "print(dict_cream)"
   ]
  },
  {
   "cell_type": "code",
   "execution_count": null,
   "id": "7a95b158-a29e-4610-bf4b-49eee74fc2e5",
   "metadata": {},
   "outputs": [],
   "source": []
  },
  {
   "cell_type": "code",
   "execution_count": null,
   "id": "6c96c9e3-5388-45fd-8e4a-244ce5222de4",
   "metadata": {},
   "outputs": [],
   "source": []
  }
 ],
 "metadata": {
  "kernelspec": {
   "display_name": "Python 3 (ipykernel)",
   "language": "python",
   "name": "python3"
  },
  "language_info": {
   "codemirror_mode": {
    "name": "ipython",
    "version": 3
   },
   "file_extension": ".py",
   "mimetype": "text/x-python",
   "name": "python",
   "nbconvert_exporter": "python",
   "pygments_lexer": "ipython3",
   "version": "3.13.5"
  }
 },
 "nbformat": 4,
 "nbformat_minor": 5
}
