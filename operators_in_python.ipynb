{
 "cells": [
  {
   "cell_type": "markdown",
   "id": "b29342f1-50ce-421c-a77e-4eefc8bb7520",
   "metadata": {},
   "source": [
    "Operators in Python"
   ]
  },
  {
   "cell_type": "raw",
   "id": "da77903a-b59d-46cf-8145-5384b0b61b73",
   "metadata": {},
   "source": [
    "        Operator         Name"
   ]
  },
  {
   "cell_type": "raw",
   "id": "26fad764-f17b-4ea4-be29-705fa0e5c5e0",
   "metadata": {},
   "source": [
    "        ==               Equal"
   ]
  },
  {
   "cell_type": "raw",
   "id": "7cbca009-6889-421a-b471-5c491c976b2c",
   "metadata": {},
   "source": [
    "        !=               Not Equal"
   ]
  },
  {
   "cell_type": "raw",
   "id": "10db28dd-1efe-4c9e-8497-af4089b9e6ec",
   "metadata": {},
   "source": [
    "        >                Greater Than"
   ]
  },
  {
   "cell_type": "raw",
   "id": "4223b608-a59e-4490-aaaa-1af37e04000a",
   "metadata": {},
   "source": [
    "        <                Less Than"
   ]
  },
  {
   "cell_type": "raw",
   "id": "c364fea9-550d-4385-9af3-d71128c921b3",
   "metadata": {},
   "source": [
    "        >=               Greater Than or Equal To "
   ]
  },
  {
   "cell_type": "raw",
   "id": "a09e0658-4bd1-4c18-b10f-33d7396de1d4",
   "metadata": {},
   "source": [
    "        <=               Less Than or Equal To "
   ]
  },
  {
   "cell_type": "markdown",
   "id": "b1bf8f71-059f-4727-ac2e-6ca572ff0505",
   "metadata": {},
   "source": [
    "How they work"
   ]
  },
  {
   "cell_type": "code",
   "execution_count": 2,
   "id": "28c442a8-9f6b-47cd-8f66-44cf63bac057",
   "metadata": {},
   "outputs": [
    {
     "data": {
      "text/plain": [
       "True"
      ]
     },
     "execution_count": 2,
     "metadata": {},
     "output_type": "execute_result"
    }
   ],
   "source": [
    "10 == 10"
   ]
  },
  {
   "cell_type": "code",
   "execution_count": 4,
   "id": "e2df105b-4937-4d78-a147-802f2263f55b",
   "metadata": {},
   "outputs": [
    {
     "data": {
      "text/plain": [
       "False"
      ]
     },
     "execution_count": 4,
     "metadata": {},
     "output_type": "execute_result"
    }
   ],
   "source": [
    "10 == 50"
   ]
  },
  {
   "cell_type": "code",
   "execution_count": 5,
   "id": "ea9b086b-ffe8-4bf1-a7ae-962098a400bc",
   "metadata": {},
   "outputs": [
    {
     "data": {
      "text/plain": [
       "True"
      ]
     },
     "execution_count": 5,
     "metadata": {},
     "output_type": "execute_result"
    }
   ],
   "source": [
    "10 != 50 "
   ]
  },
  {
   "cell_type": "code",
   "execution_count": 6,
   "id": "d57b0d6f-d9a0-42ed-8024-734fd3375a33",
   "metadata": {},
   "outputs": [
    {
     "data": {
      "text/plain": [
       "False"
      ]
     },
     "execution_count": 6,
     "metadata": {},
     "output_type": "execute_result"
    }
   ],
   "source": [
    "'Vanilla' == 'Chocolate'"
   ]
  },
  {
   "cell_type": "code",
   "execution_count": 7,
   "id": "e2056926-3278-490b-83ce-8e064d2542e3",
   "metadata": {},
   "outputs": [
    {
     "data": {
      "text/plain": [
       "True"
      ]
     },
     "execution_count": 7,
     "metadata": {},
     "output_type": "execute_result"
    }
   ],
   "source": [
    "'Vanilla' == 'Vanilla'"
   ]
  },
  {
   "cell_type": "code",
   "execution_count": 8,
   "id": "ac5dcc0a-32fa-478f-92fc-263c93af250a",
   "metadata": {},
   "outputs": [
    {
     "data": {
      "text/plain": [
       "False"
      ]
     },
     "execution_count": 8,
     "metadata": {},
     "output_type": "execute_result"
    }
   ],
   "source": [
    "x = 'Vanilla'\n",
    "y = 'Chocolate'\n",
    "\n",
    "x == y"
   ]
  },
  {
   "cell_type": "code",
   "execution_count": 9,
   "id": "ec3df944-cd8d-428e-b02f-96b3b1b62a4c",
   "metadata": {},
   "outputs": [
    {
     "data": {
      "text/plain": [
       "True"
      ]
     },
     "execution_count": 9,
     "metadata": {},
     "output_type": "execute_result"
    }
   ],
   "source": [
    "x = 'Vanilla'\n",
    "y = 'Chocolate'\n",
    "\n",
    "x != y"
   ]
  },
  {
   "cell_type": "code",
   "execution_count": 11,
   "id": "ba1c0082-daf1-4bc4-b9c1-4365044ae94f",
   "metadata": {},
   "outputs": [
    {
     "data": {
      "text/plain": [
       "True"
      ]
     },
     "execution_count": 11,
     "metadata": {},
     "output_type": "execute_result"
    }
   ],
   "source": [
    "10 < 50"
   ]
  },
  {
   "cell_type": "code",
   "execution_count": 12,
   "id": "35d9e157-33aa-4830-a779-0aea6f1c952b",
   "metadata": {},
   "outputs": [
    {
     "data": {
      "text/plain": [
       "False"
      ]
     },
     "execution_count": 12,
     "metadata": {},
     "output_type": "execute_result"
    }
   ],
   "source": [
    "10 < 10"
   ]
  },
  {
   "cell_type": "code",
   "execution_count": 13,
   "id": "8f18088a-d25d-4254-ba72-6dbf13219c56",
   "metadata": {},
   "outputs": [
    {
     "data": {
      "text/plain": [
       "True"
      ]
     },
     "execution_count": 13,
     "metadata": {},
     "output_type": "execute_result"
    }
   ],
   "source": [
    "10 <= 10"
   ]
  },
  {
   "cell_type": "markdown",
   "id": "f681981e-f452-46da-8eea-3f972d37480b",
   "metadata": {},
   "source": [
    "Logical Operators"
   ]
  },
  {
   "cell_type": "raw",
   "id": "a6e95ecd-f1da-4eb1-8965-bd5083d0a0f3",
   "metadata": {},
   "source": [
    "        Operator             Description "
   ]
  },
  {
   "cell_type": "raw",
   "id": "6880203b-94a4-4e4b-a270-e6c24bdcf8e1",
   "metadata": {},
   "source": [
    "        and                  Returns True if both statements are true"
   ]
  },
  {
   "cell_type": "raw",
   "id": "7adc19cc-bec5-4db9-bc02-49d327f68363",
   "metadata": {},
   "source": [
    "        or                   Returns True if ONE of the statements is true"
   ]
  },
  {
   "cell_type": "raw",
   "id": "5980965a-8025-4ab8-ba36-6a3fd79eea38",
   "metadata": {},
   "source": [
    "        not                   Reverse the result, returns False if the  resuult is true"
   ]
  },
  {
   "cell_type": "code",
   "execution_count": 14,
   "id": "1d265d9e-bd74-457d-bf1b-15a12cd6a693",
   "metadata": {},
   "outputs": [
    {
     "data": {
      "text/plain": [
       "False"
      ]
     },
     "execution_count": 14,
     "metadata": {},
     "output_type": "execute_result"
    }
   ],
   "source": [
    "10 > 50"
   ]
  },
  {
   "cell_type": "code",
   "execution_count": 15,
   "id": "0102c6f2-c3a6-4a40-85b5-c01a6d337f29",
   "metadata": {},
   "outputs": [
    {
     "data": {
      "text/plain": [
       "False"
      ]
     },
     "execution_count": 15,
     "metadata": {},
     "output_type": "execute_result"
    }
   ],
   "source": [
    "(10 > 50) and (50 > 10)"
   ]
  },
  {
   "cell_type": "code",
   "execution_count": 16,
   "id": "bd449abd-7d6f-4345-ab9a-b8ef42eadfb7",
   "metadata": {},
   "outputs": [
    {
     "data": {
      "text/plain": [
       "True"
      ]
     },
     "execution_count": 16,
     "metadata": {},
     "output_type": "execute_result"
    }
   ],
   "source": [
    "(70 > 50) and (50 > 10)"
   ]
  },
  {
   "cell_type": "code",
   "execution_count": 17,
   "id": "9fcc59ee-0ba9-452b-98f8-3b9c6bd2b52d",
   "metadata": {},
   "outputs": [
    {
     "data": {
      "text/plain": [
       "True"
      ]
     },
     "execution_count": 17,
     "metadata": {},
     "output_type": "execute_result"
    }
   ],
   "source": [
    "(10 > 50) or (50 > 10)"
   ]
  },
  {
   "cell_type": "code",
   "execution_count": 18,
   "id": "9a684807-33c2-4490-949f-a0bc0b95555f",
   "metadata": {},
   "outputs": [
    {
     "data": {
      "text/plain": [
       "True"
      ]
     },
     "execution_count": 18,
     "metadata": {},
     "output_type": "execute_result"
    }
   ],
   "source": [
    "('Vanilla' > 'Chocolate') and (50 > 10)"
   ]
  },
  {
   "cell_type": "markdown",
   "id": "606975c4-12ac-41a1-a458-28bb404b0b86",
   "metadata": {},
   "source": [
    "V is counted as 20 on the number scale according to the letters superimposed on the number scale \n",
    "where 'C' is 3"
   ]
  },
  {
   "cell_type": "code",
   "execution_count": 19,
   "id": "a857b678-9fe9-406f-b53d-1e992700a3d1",
   "metadata": {},
   "outputs": [
    {
     "data": {
      "text/plain": [
       "False"
      ]
     },
     "execution_count": 19,
     "metadata": {},
     "output_type": "execute_result"
    }
   ],
   "source": [
    "not (50 > 10)"
   ]
  },
  {
   "cell_type": "markdown",
   "id": "a5f85bd6-f9b4-4808-a4e2-4baf96666537",
   "metadata": {},
   "source": [
    "Membership Operators"
   ]
  },
  {
   "cell_type": "raw",
   "id": "af874338-4128-443c-9023-701395455959",
   "metadata": {},
   "source": [
    "        Operator                 Descriptiion "
   ]
  },
  {
   "cell_type": "raw",
   "id": "530671fc-9bbb-4eff-94fa-86371215b4ed",
   "metadata": {},
   "source": [
    "        in                        Returns True if a sequence with the specified value is present with the specified value."
   ]
  },
  {
   "cell_type": "raw",
   "id": "c14f3a61-e1bc-4a31-a3b7-1c4bb5fce154",
   "metadata": {},
   "source": [
    "        not in                    Returns True if a sequence with the secified value is not present in the obect"
   ]
  },
  {
   "cell_type": "code",
   "execution_count": 20,
   "id": "d43b4f83-9e81-4017-bc38-bc9d31c3aa46",
   "metadata": {},
   "outputs": [
    {
     "data": {
      "text/plain": [
       "True"
      ]
     },
     "execution_count": 20,
     "metadata": {},
     "output_type": "execute_result"
    }
   ],
   "source": [
    "ice_cream = 'I love Chocolate ice cream'\n",
    "'love' in ice_cream"
   ]
  },
  {
   "cell_type": "code",
   "execution_count": 21,
   "id": "c8a404b5-3c9d-41e0-8440-fa68e515772f",
   "metadata": {},
   "outputs": [
    {
     "data": {
      "text/plain": [
       "True"
      ]
     },
     "execution_count": 21,
     "metadata": {},
     "output_type": "execute_result"
    }
   ],
   "source": [
    "scoops = [1,2,3,4,5]\n",
    "2 in scoops"
   ]
  },
  {
   "cell_type": "code",
   "execution_count": 22,
   "id": "085e1281-29a6-40c5-ab5e-862a10c9e65c",
   "metadata": {},
   "outputs": [
    {
     "data": {
      "text/plain": [
       "False"
      ]
     },
     "execution_count": 22,
     "metadata": {},
     "output_type": "execute_result"
    }
   ],
   "source": [
    "scoops = [1,2,3,4,5]\n",
    "6 in scoops"
   ]
  },
  {
   "cell_type": "code",
   "execution_count": null,
   "id": "c69c7676-63bd-42be-a0d5-a869b2e3c7cd",
   "metadata": {},
   "outputs": [],
   "source": [
    "scoops = [1,2,3,4,5]\n",
    "6 not in scoops"
   ]
  },
  {
   "cell_type": "code",
   "execution_count": null,
   "id": "6ceac58c-c80e-4c4e-a09e-5193eeb18322",
   "metadata": {},
   "outputs": [],
   "source": []
  },
  {
   "cell_type": "code",
   "execution_count": null,
   "id": "3a111a99-4acc-43e7-8188-4d9d1d7eba6a",
   "metadata": {},
   "outputs": [],
   "source": []
  },
  {
   "cell_type": "code",
   "execution_count": null,
   "id": "89c89126-c601-4a5e-a021-12e4e5d08b51",
   "metadata": {},
   "outputs": [],
   "source": []
  },
  {
   "cell_type": "code",
   "execution_count": null,
   "id": "908b6831-7d5b-424a-84d1-5f853219ddbc",
   "metadata": {},
   "outputs": [],
   "source": []
  },
  {
   "cell_type": "code",
   "execution_count": null,
   "id": "8c2f3537-5dcd-4256-80ee-f606104c5b43",
   "metadata": {},
   "outputs": [],
   "source": []
  }
 ],
 "metadata": {
  "kernelspec": {
   "display_name": "Python 3 (ipykernel)",
   "language": "python",
   "name": "python3"
  },
  "language_info": {
   "codemirror_mode": {
    "name": "ipython",
    "version": 3
   },
   "file_extension": ".py",
   "mimetype": "text/x-python",
   "name": "python",
   "nbconvert_exporter": "python",
   "pygments_lexer": "ipython3",
   "version": "3.13.5"
  }
 },
 "nbformat": 4,
 "nbformat_minor": 5
}
