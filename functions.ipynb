{
 "cells": [
  {
   "cell_type": "markdown",
   "id": "b58df908-8f66-404f-a8c2-c2deeb5c8399",
   "metadata": {},
   "source": [
    "Functions "
   ]
  },
  {
   "cell_type": "markdown",
   "id": "9f07da34-e9d2-4a32-a4cd-a0a69aa722c6",
   "metadata": {},
   "source": [
    "A block of code that only runs hen you run it "
   ]
  },
  {
   "cell_type": "markdown",
   "id": "191caf44-acc0-4f6f-88a0-22fe2adcb05f",
   "metadata": {},
   "source": [
    "Example"
   ]
  },
  {
   "cell_type": "raw",
   "id": "609c22fc-47c6-4a0b-b6b3-d3499febb2ae",
   "metadata": {},
   "source": [
    "def function(): \n",
    "    print(\"My First Function\")                         Function and Body "
   ]
  },
  {
   "cell_type": "raw",
   "id": "11dfbaa6-554f-4430-8ecd-c9cfbbf4d324",
   "metadata": {},
   "source": [
    "function()                                             Function call"
   ]
  },
  {
   "cell_type": "raw",
   "id": "531858c4-a155-46c1-b612-de87a6137269",
   "metadata": {},
   "source": [
    "My First Function                                      Function Output"
   ]
  },
  {
   "cell_type": "code",
   "execution_count": 2,
   "id": "0ea6fa5b-ff8a-4a4f-aa70-7821614b0822",
   "metadata": {},
   "outputs": [],
   "source": [
    "def first_func():\n",
    "    print('We did it.')"
   ]
  },
  {
   "cell_type": "code",
   "execution_count": 3,
   "id": "bc45754d-ad1e-4580-9f57-7ce0ad97c186",
   "metadata": {},
   "outputs": [
    {
     "name": "stdout",
     "output_type": "stream",
     "text": [
      "We did it.\n"
     ]
    }
   ],
   "source": [
    "first_func()"
   ]
  },
  {
   "cell_type": "code",
   "execution_count": 5,
   "id": "c457c87e-05bf-4ee1-8571-69a5144b1868",
   "metadata": {},
   "outputs": [],
   "source": [
    "def number_squared(number):\n",
    "    print(number**2)"
   ]
  },
  {
   "cell_type": "code",
   "execution_count": 7,
   "id": "4c93ba2f-7c73-4c1e-972d-b29b44c21c77",
   "metadata": {},
   "outputs": [
    {
     "name": "stdout",
     "output_type": "stream",
     "text": [
      "25\n"
     ]
    }
   ],
   "source": [
    "number_squared(5)"
   ]
  },
  {
   "cell_type": "code",
   "execution_count": 8,
   "id": "07bad6c8-d6f8-423e-92ad-2a591aa682af",
   "metadata": {},
   "outputs": [],
   "source": [
    "def number_cust(number, power):\n",
    "    print(number**power)"
   ]
  },
  {
   "cell_type": "code",
   "execution_count": 9,
   "id": "f2a2bf95-08e3-4f9a-bcbf-db506242f428",
   "metadata": {},
   "outputs": [
    {
     "name": "stdout",
     "output_type": "stream",
     "text": [
      "125\n"
     ]
    }
   ],
   "source": [
    "number_cust(5,3)"
   ]
  },
  {
   "cell_type": "code",
   "execution_count": 10,
   "id": "5839b790-454e-48e8-93df-16677f3587e5",
   "metadata": {},
   "outputs": [],
   "source": [
    "def number_args(*number):\n",
    "    print(number[0]*number[1])"
   ]
  },
  {
   "cell_type": "code",
   "execution_count": 11,
   "id": "eecc14b2-a0d0-483c-ac4c-9fded8b89bbf",
   "metadata": {},
   "outputs": [
    {
     "name": "stdout",
     "output_type": "stream",
     "text": [
      "30\n"
     ]
    }
   ],
   "source": [
    "number_args(5,6,1,2,8)"
   ]
  },
  {
   "cell_type": "code",
   "execution_count": 13,
   "id": "4b155cfb-b417-4adc-9a83-492eccaf423b",
   "metadata": {},
   "outputs": [],
   "source": [
    "args_tuple = (5,6,1,2,8) \n",
    "\n",
    "def number_args(*number):\n",
    "    print(number[0]*number[1])"
   ]
  },
  {
   "cell_type": "code",
   "execution_count": 14,
   "id": "5ebec21d-fc72-41c0-b7ef-efb6ef3f9e29",
   "metadata": {},
   "outputs": [
    {
     "name": "stdout",
     "output_type": "stream",
     "text": [
      "30\n"
     ]
    }
   ],
   "source": [
    "number_args(*args_tuple)"
   ]
  },
  {
   "cell_type": "code",
   "execution_count": 17,
   "id": "372a2af7-fab7-4972-a707-5c6ef04bc9eb",
   "metadata": {},
   "outputs": [],
   "source": [
    "def number_squared_cust(number,power):\n",
    "    print(number**power)"
   ]
  },
  {
   "cell_type": "code",
   "execution_count": 18,
   "id": "05344503-0f3b-4762-b0c7-41189dc872f3",
   "metadata": {},
   "outputs": [
    {
     "name": "stdout",
     "output_type": "stream",
     "text": [
      "243\n"
     ]
    }
   ],
   "source": [
    "number_squared_cust(power= 5, number = 3)"
   ]
  },
  {
   "cell_type": "code",
   "execution_count": 22,
   "id": "cc332596-e001-4e7a-ab93-24013a871b98",
   "metadata": {},
   "outputs": [],
   "source": [
    "def number_kwarg(**number):\n",
    "    print('My number is: ' + number['integer'])    "
   ]
  },
  {
   "cell_type": "code",
   "execution_count": 24,
   "id": "550f416d-142b-4c5e-af9a-d434f3a17f44",
   "metadata": {},
   "outputs": [
    {
     "name": "stdout",
     "output_type": "stream",
     "text": [
      "My number is: 2309\n"
     ]
    }
   ],
   "source": [
    "number_kwarg(integer = '2309')"
   ]
  },
  {
   "cell_type": "code",
   "execution_count": 30,
   "id": "b801abe5-8e2d-4b17-9c68-c3b18250a274",
   "metadata": {},
   "outputs": [],
   "source": [
    "def number_kwarg(**number):\n",
    "    print('My number is: ' + number['integer'] + '. My other number: ' + number['integer2'])    "
   ]
  },
  {
   "cell_type": "code",
   "execution_count": 31,
   "id": "d92a7a83-f480-4a9a-9e7e-5977664f4282",
   "metadata": {},
   "outputs": [
    {
     "name": "stdout",
     "output_type": "stream",
     "text": [
      "My number is: 2309. My other number: 349\n"
     ]
    }
   ],
   "source": [
    "number_kwarg(integer = '2309', integer2 = '349')"
   ]
  },
  {
   "cell_type": "code",
   "execution_count": null,
   "id": "93dbf344-4e14-4dc3-94a2-236e767a3683",
   "metadata": {},
   "outputs": [],
   "source": []
  },
  {
   "cell_type": "code",
   "execution_count": null,
   "id": "b3fe63e9-4057-407c-9e8d-b2c8ecc33f2d",
   "metadata": {},
   "outputs": [],
   "source": []
  },
  {
   "cell_type": "code",
   "execution_count": null,
   "id": "f6a77130-2ed2-4d0e-832b-2f6256ff2c8d",
   "metadata": {},
   "outputs": [],
   "source": []
  },
  {
   "cell_type": "code",
   "execution_count": null,
   "id": "e821c77a-fcdd-451d-92ab-6a970fbd8a7d",
   "metadata": {},
   "outputs": [],
   "source": []
  },
  {
   "cell_type": "code",
   "execution_count": null,
   "id": "802d4f3e-27c6-43ea-9f83-20162c7dd86d",
   "metadata": {},
   "outputs": [],
   "source": []
  },
  {
   "cell_type": "raw",
   "id": "c59951bb-32b3-4ea7-ab19-06e9e3a10eff",
   "metadata": {},
   "source": []
  }
 ],
 "metadata": {
  "kernelspec": {
   "display_name": "Python 3 (ipykernel)",
   "language": "python",
   "name": "python3"
  },
  "language_info": {
   "codemirror_mode": {
    "name": "ipython",
    "version": 3
   },
   "file_extension": ".py",
   "mimetype": "text/x-python",
   "name": "python",
   "nbconvert_exporter": "python",
   "pygments_lexer": "ipython3",
   "version": "3.13.5"
  }
 },
 "nbformat": 4,
 "nbformat_minor": 5
}
