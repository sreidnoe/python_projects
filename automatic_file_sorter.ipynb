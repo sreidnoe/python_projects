{
 "cells": [
  {
   "cell_type": "markdown",
   "id": "a8f7c748-a5b7-4295-ba70-52c87ad39a86",
   "metadata": {},
   "source": [
    "Automatic File Sorter"
   ]
  },
  {
   "cell_type": "code",
   "execution_count": 1,
   "id": "63f4737a-0440-4147-ae13-102d35cc59af",
   "metadata": {},
   "outputs": [],
   "source": [
    "import os, shutil"
   ]
  },
  {
   "cell_type": "code",
   "execution_count": 13,
   "id": "ec837952-c2da-4207-979b-01ed26385573",
   "metadata": {},
   "outputs": [],
   "source": [
    "path = r\"C:\\Users\\Stephanie\\Desktop\\Folder Project/\""
   ]
  },
  {
   "cell_type": "code",
   "execution_count": 18,
   "id": "95f36233-4e13-4081-b9e0-2587c898a0f6",
   "metadata": {},
   "outputs": [],
   "source": [
    "file_name = os.listdir(path)"
   ]
  },
  {
   "cell_type": "code",
   "execution_count": 26,
   "id": "4fb37ba6-3517-4260-bdad-b0cc57de4104",
   "metadata": {},
   "outputs": [],
   "source": [
    "folder_names = ['csv files', 'image  files' , 'text files']\n",
    "\n",
    "for loop in range(0,3):\n",
    "    if not os.path.exists(path + folder_names[loop]):\n",
    "        print(path + folder_names[loop])\n",
    "        os.makedirs((path + folder_names[loop]))\n",
    "\n",
    "for file in file_name:\n",
    "    if \".csv\" in file and not os.path.exists(path + \"csv files/\" + file):\n",
    "        shutil.move(path + file, path + \"csv files/\" + file)\n",
    "    elif \".jpg\" in file and not os.path.exists(path + \"image files/\" + file):\n",
    "        shutil.move(path + file, path + \"image  files/\" + file)\n",
    "    elif \".txt\" in file and not os.path.exists(path + \"text files/\" + file):\n",
    "        shutil.move(path + file, path + \"text files/\" + file)"
   ]
  },
  {
   "cell_type": "code",
   "execution_count": null,
   "id": "dc8f683e-a6b6-431a-8fb6-1213236848cc",
   "metadata": {},
   "outputs": [],
   "source": [
    "\n",
    "    "
   ]
  },
  {
   "cell_type": "code",
   "execution_count": null,
   "id": "00fca451-a93d-4c16-b55a-6aa9ff7ee6dd",
   "metadata": {},
   "outputs": [],
   "source": []
  },
  {
   "cell_type": "code",
   "execution_count": null,
   "id": "fe4f3c8f-dd1f-443f-98d8-22a2f7cbd9be",
   "metadata": {},
   "outputs": [],
   "source": []
  },
  {
   "cell_type": "code",
   "execution_count": null,
   "id": "be65b7ee-107a-4e08-af82-b644fcd7a612",
   "metadata": {},
   "outputs": [],
   "source": []
  },
  {
   "cell_type": "code",
   "execution_count": null,
   "id": "53a17534-84d8-46bc-bd20-1ef02d1f750d",
   "metadata": {},
   "outputs": [],
   "source": []
  },
  {
   "cell_type": "code",
   "execution_count": null,
   "id": "b452e22e-c6e9-4105-b0d9-0a71539ba866",
   "metadata": {},
   "outputs": [],
   "source": []
  },
  {
   "cell_type": "code",
   "execution_count": null,
   "id": "455dc9ef-5b5d-4eb2-90f3-c9aa1f1ba68f",
   "metadata": {},
   "outputs": [],
   "source": []
  },
  {
   "cell_type": "code",
   "execution_count": null,
   "id": "0289f1a5-f5c9-4a2a-a0b0-0ab412a0dec9",
   "metadata": {},
   "outputs": [],
   "source": []
  },
  {
   "cell_type": "code",
   "execution_count": null,
   "id": "52433010-5725-4ff3-96d7-4501ecc17a6e",
   "metadata": {},
   "outputs": [],
   "source": []
  }
 ],
 "metadata": {
  "kernelspec": {
   "display_name": "Python 3 (ipykernel)",
   "language": "python",
   "name": "python3"
  },
  "language_info": {
   "codemirror_mode": {
    "name": "ipython",
    "version": 3
   },
   "file_extension": ".py",
   "mimetype": "text/x-python",
   "name": "python",
   "nbconvert_exporter": "python",
   "pygments_lexer": "ipython3",
   "version": "3.13.5"
  }
 },
 "nbformat": 4,
 "nbformat_minor": 5
}
